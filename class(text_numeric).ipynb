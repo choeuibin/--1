{
  "nbformat": 4,
  "nbformat_minor": 0,
  "metadata": {
    "colab": {
      "provenance": [],
      "mount_file_id": "1Hrv-6Htyi_j88uddnomq8qaItp6SDvqN",
      "authorship_tag": "ABX9TyPySycOzl2aj1GBWmhCcMLC",
      "include_colab_link": true
    },
    "kernelspec": {
      "name": "python3",
      "display_name": "Python 3"
    },
    "language_info": {
      "name": "python"
    }
  },
  "cells": [
    {
      "cell_type": "markdown",
      "metadata": {
        "id": "view-in-github",
        "colab_type": "text"
      },
      "source": [
        "<a href=\"https://colab.research.google.com/github/choeuibin/--1/blob/main/class(text_numeric).ipynb\" target=\"_parent\"><img src=\"https://colab.research.google.com/assets/colab-badge.svg\" alt=\"Open In Colab\"/></a>"
      ]
    },
    {
      "cell_type": "code",
      "execution_count": 1,
      "metadata": {
        "id": "11s3PVN6tYu9",
        "colab": {
          "base_uri": "https://localhost:8080/"
        },
        "outputId": "dfada8a7-b3e7-43ae-a166-96fcf41ef378"
      },
      "outputs": [
        {
          "output_type": "stream",
          "name": "stdout",
          "text": [
            "/content\n"
          ]
        }
      ],
      "source": [
        "!pwd"
      ]
    },
    {
      "cell_type": "code",
      "source": [
        "%cd /content/drive/MyDrive/Colab Notebooks"
      ],
      "metadata": {
        "id": "2udve3RXvHlm",
        "colab": {
          "base_uri": "https://localhost:8080/"
        },
        "outputId": "834a4a47-fc1d-4ebe-cd41-834504f77e2f"
      },
      "execution_count": 2,
      "outputs": [
        {
          "output_type": "stream",
          "name": "stdout",
          "text": [
            "/content/drive/MyDrive/Colab Notebooks\n"
          ]
        }
      ]
    },
    {
      "cell_type": "code",
      "source": [
        "!ls"
      ],
      "metadata": {
        "id": "jg3Pbqp8vYAm",
        "outputId": "d9e56977-f84d-44e5-af36-936f842557b4",
        "colab": {
          "base_uri": "https://localhost:8080/"
        }
      },
      "execution_count": 3,
      "outputs": [
        {
          "output_type": "stream",
          "name": "stdout",
          "text": [
            "'01_04(2).ipynb'\t     class2.ipynb\t\t  tree.dot\n",
            "'0109(easy version).ipynb'  'class(Linear).ipynb'\n",
            "'0116(보완3).ipynb'\t    'class(text_numeric).ipynb'\n"
          ]
        }
      ]
    },
    {
      "cell_type": "code",
      "source": [
        "!pip install import_ipynb"
      ],
      "metadata": {
        "id": "bgDKODKMvZKB",
        "colab": {
          "base_uri": "https://localhost:8080/"
        },
        "outputId": "d0cb7be0-bd93-45c2-ae37-f3ac3e20f22c"
      },
      "execution_count": 4,
      "outputs": [
        {
          "output_type": "stream",
          "name": "stdout",
          "text": [
            "Looking in indexes: https://pypi.org/simple, https://us-python.pkg.dev/colab-wheels/public/simple/\n",
            "Requirement already satisfied: import_ipynb in /usr/local/lib/python3.8/dist-packages (0.1.4)\n",
            "Requirement already satisfied: IPython in /usr/local/lib/python3.8/dist-packages (from import_ipynb) (7.9.0)\n",
            "Requirement already satisfied: nbformat in /usr/local/lib/python3.8/dist-packages (from import_ipynb) (5.7.1)\n",
            "Requirement already satisfied: prompt-toolkit<2.1.0,>=2.0.0 in /usr/local/lib/python3.8/dist-packages (from IPython->import_ipynb) (2.0.10)\n",
            "Requirement already satisfied: pygments in /usr/local/lib/python3.8/dist-packages (from IPython->import_ipynb) (2.6.1)\n",
            "Requirement already satisfied: traitlets>=4.2 in /usr/local/lib/python3.8/dist-packages (from IPython->import_ipynb) (5.7.1)\n",
            "Requirement already satisfied: setuptools>=18.5 in /usr/local/lib/python3.8/dist-packages (from IPython->import_ipynb) (57.4.0)\n",
            "Requirement already satisfied: jedi>=0.10 in /usr/local/lib/python3.8/dist-packages (from IPython->import_ipynb) (0.18.2)\n",
            "Requirement already satisfied: pexpect in /usr/local/lib/python3.8/dist-packages (from IPython->import_ipynb) (4.8.0)\n",
            "Requirement already satisfied: pickleshare in /usr/local/lib/python3.8/dist-packages (from IPython->import_ipynb) (0.7.5)\n",
            "Requirement already satisfied: decorator in /usr/local/lib/python3.8/dist-packages (from IPython->import_ipynb) (4.4.2)\n",
            "Requirement already satisfied: backcall in /usr/local/lib/python3.8/dist-packages (from IPython->import_ipynb) (0.2.0)\n",
            "Requirement already satisfied: fastjsonschema in /usr/local/lib/python3.8/dist-packages (from nbformat->import_ipynb) (2.16.2)\n",
            "Requirement already satisfied: jupyter-core in /usr/local/lib/python3.8/dist-packages (from nbformat->import_ipynb) (5.1.3)\n",
            "Requirement already satisfied: jsonschema>=2.6 in /usr/local/lib/python3.8/dist-packages (from nbformat->import_ipynb) (4.3.3)\n",
            "Requirement already satisfied: parso<0.9.0,>=0.8.0 in /usr/local/lib/python3.8/dist-packages (from jedi>=0.10->IPython->import_ipynb) (0.8.3)\n",
            "Requirement already satisfied: importlib-resources>=1.4.0 in /usr/local/lib/python3.8/dist-packages (from jsonschema>=2.6->nbformat->import_ipynb) (5.10.2)\n",
            "Requirement already satisfied: pyrsistent!=0.17.0,!=0.17.1,!=0.17.2,>=0.14.0 in /usr/local/lib/python3.8/dist-packages (from jsonschema>=2.6->nbformat->import_ipynb) (0.19.3)\n",
            "Requirement already satisfied: attrs>=17.4.0 in /usr/local/lib/python3.8/dist-packages (from jsonschema>=2.6->nbformat->import_ipynb) (22.2.0)\n",
            "Requirement already satisfied: six>=1.9.0 in /usr/local/lib/python3.8/dist-packages (from prompt-toolkit<2.1.0,>=2.0.0->IPython->import_ipynb) (1.15.0)\n",
            "Requirement already satisfied: wcwidth in /usr/local/lib/python3.8/dist-packages (from prompt-toolkit<2.1.0,>=2.0.0->IPython->import_ipynb) (0.2.5)\n",
            "Requirement already satisfied: platformdirs>=2.5 in /usr/local/lib/python3.8/dist-packages (from jupyter-core->nbformat->import_ipynb) (2.6.2)\n",
            "Requirement already satisfied: ptyprocess>=0.5 in /usr/local/lib/python3.8/dist-packages (from pexpect->IPython->import_ipynb) (0.7.0)\n",
            "Requirement already satisfied: zipp>=3.1.0 in /usr/local/lib/python3.8/dist-packages (from importlib-resources>=1.4.0->jsonschema>=2.6->nbformat->import_ipynb) (3.11.0)\n"
          ]
        }
      ]
    },
    {
      "cell_type": "code",
      "source": [
        "import import_ipynb"
      ],
      "metadata": {
        "id": "VI_VGSExvuHb"
      },
      "execution_count": 5,
      "outputs": []
    },
    {
      "cell_type": "code",
      "source": [
        "import class2"
      ],
      "metadata": {
        "id": "dTHA4TmyvmjD",
        "colab": {
          "base_uri": "https://localhost:8080/"
        },
        "outputId": "381051f4-4e86-466f-c922-e92c7f519859"
      },
      "execution_count": 6,
      "outputs": [
        {
          "output_type": "stream",
          "name": "stdout",
          "text": [
            "importing Jupyter notebook from class2.ipynb\n"
          ]
        }
      ]
    },
    {
      "cell_type": "code",
      "source": [
        "x = class2.numeric()\n",
        "x.read_file(\"/content/drive/MyDrive/파이썬/data_revised.csv\")\n",
        "x.normalization(2)\n",
        "x.data_IQR(2)\n",
        "x.before_making_model([x.df.columns[3],x.df.columns[4],x.df.columns[5], x.df.columns[6]],[x.df.columns[1]],2)\n",
        "\n",
        "x.linearRegress(x.train_test_data, x.df.columns)\n",
        "x.Reset_index(x.Y_value[1],2)\n",
        "x.plot_picture(x.Y_value[0],x.Y_test)"
      ],
      "metadata": {
        "id": "qhhdcT5swrTI"
      },
      "execution_count": null,
      "outputs": []
    },
    {
      "cell_type": "code",
      "source": [
        "x2 = class2.numeric()\n",
        "x2.read_file(\"/content/drive/MyDrive/파이썬/data_revised.csv\")\n",
        "x2.normalization(2)\n",
        "x2.data_IQR(2)\n",
        "x2.before_making_model([x2.df.columns[3],x2.df.columns[4],x2.df.columns[5], x2.df.columns[6]],[x2.df.columns[1]],2)\n",
        "\n",
        "x2.Ridge_function(x2.train_test_data)\n",
        "x2.Reset_index(x2.Y_value[1],2)\n",
        "x2.plot_picture(x2.Y_value[0],x2.Y_test)"
      ],
      "metadata": {
        "id": "LuhJKy7bxuCk"
      },
      "execution_count": null,
      "outputs": []
    },
    {
      "cell_type": "code",
      "source": [
        "x3 = class2.numeric()\n",
        "x3.read_file(\"/content/drive/MyDrive/파이썬/data_revised.csv\")\n",
        "x3.normalization(2)\n",
        "x3.data_IQR(2)\n",
        "x3.before_making_model([x3.df.columns[3],x3.df.columns[4],x3.df.columns[5], x3.df.columns[6]],[x2.df.columns[1]],2)\n",
        "\n",
        "x3.Lasso_function(x3.train_test_data)\n",
        "x3.Reset_index(x3.Y_value[1],2)\n",
        "x3.plot_picture(x3.Y_value[0],x3.Y_test)"
      ],
      "metadata": {
        "id": "w-fybsfLxrp7"
      },
      "execution_count": null,
      "outputs": []
    },
    {
      "cell_type": "code",
      "source": [
        "x4 = class2.numeric()\n",
        "x4.read_file(\"/content/drive/MyDrive/파이썬/data_revised.csv\")\n",
        "x4.normalization(2)\n",
        "x4.data_IQR(2)\n",
        "x4.before_making_model([x4.df.columns[3],x4.df.columns[4],x4.df.columns[5], x4.df.columns[6]],[x4.df.columns[1]],2)\n",
        "\n",
        "x4.Elastic_function(x4.train_test_data)\n",
        "x4.Reset_index(x4.Y_value[1],2)\n",
        "x4.plot_picture(x4.Y_value[0],x4.Y_test)"
      ],
      "metadata": {
        "id": "QQbkGN6odaj2"
      },
      "execution_count": null,
      "outputs": []
    },
    {
      "cell_type": "code",
      "source": [
        "x5 = class2.numeric()\n",
        "x5.read_file(\"/content/drive/MyDrive/파이썬/data_revised.csv\")\n",
        "x5.normalization(2)\n",
        "x5.data_IQR(2)\n",
        "x5.before_making_model([x5.df.columns[3],x5.df.columns[4],x5.df.columns[5], x5.df.columns[6]],[x5.df.columns[1]],2)\n",
        "\n",
        "x5.knn_reg_function(x5.train_test_data)\n",
        "x5.Reset_index(x5.Y_value[1],2)\n",
        "x5.plot_picture(x5.Y_value[0],x5.Y_test)"
      ],
      "metadata": {
        "id": "I55EIdHyd2Pd"
      },
      "execution_count": null,
      "outputs": []
    },
    {
      "cell_type": "code",
      "source": [
        "x6 = class2.numeric()\n",
        "x6.read_file(\"/content/drive/MyDrive/파이썬/data_revised.csv\")\n",
        "x6.normalization(2)\n",
        "x6.data_IQR(2)\n",
        "x6.before_making_model2([x6.df.columns[3],x6.df.columns[4],x6.df.columns[5], x6.df.columns[6]],[x6.df.columns[1]],2,1)\n",
        "X_train, DT_model_reg = x6.decision_tree(x6.train_test_data)\n",
        "x6.Reset_index(x6.Y_value[1],2)\n",
        "x6.plot_picture(x6.Y_value[0],x6.Y_test)\n",
        "\n",
        "feature_name = X_train.columns\n",
        "feature_importance = DT_model_reg.feature_importances_\n",
        "sorted(zip(feature_importance,feature_name), reverse = True)"
      ],
      "metadata": {
        "id": "NTcXuHWsd7C4"
      },
      "execution_count": null,
      "outputs": []
    },
    {
      "cell_type": "code",
      "source": [
        "from sklearn.tree import export_graphviz\n",
        "import graphviz\n",
        "\n",
        "#파일생성\n",
        "export_graphviz(DT_model_reg, out_file=\"tree.dot\", class_names=[\"비이탈\", \"이탈\"],\n",
        "                feature_names = feature_name, impurity=True, filled = True)\n",
        "\n",
        "#파일열기\n",
        "with open(\"tree.dot\", encoding=\"utf-8\") as f:\n",
        "    dot_graph = f.read()\n",
        "graphviz.Source(dot_graph)\n"
      ],
      "metadata": {
        "id": "KOm3jHhreU81"
      },
      "execution_count": null,
      "outputs": []
    },
    {
      "cell_type": "code",
      "source": [
        "x7 = class2.numeric()\n",
        "x7.read_file(\"/content/drive/MyDrive/파이썬/data_revised.csv\")\n",
        "x7.normalization(2)\n",
        "x7.data_IQR(2)\n",
        "x7.before_making_model([x7.df.columns[3],x7.df.columns[4],x7.df.columns[5], x7.df.columns[6]],[x7.df.columns[1]],2)\n",
        "\n",
        "x7.SVR_function(x7.train_test_data)\n",
        "x7.Reset_index(x7.Y_value[1],2)\n",
        "x7.plot_picture(x7.Y_value[0],x7.Y_test)\n"
      ],
      "metadata": {
        "id": "HGXurRxqd_R5"
      },
      "execution_count": null,
      "outputs": []
    },
    {
      "cell_type": "code",
      "source": [
        "x8 = class2.numeric()\n",
        "x8.read_file(\"/content/drive/MyDrive/파이썬/data_revised.csv\")\n",
        "x8.normalization(2)\n",
        "x8.data_IQR(2)\n",
        "x8.before_making_model([x8.df.columns[3],x8.df.columns[4],x8.df.columns[5], x8.df.columns[6]],[x8.df.columns[1]],2)\n",
        "\n",
        "x8.NaiveBayes(x8.train_test_data)\n",
        "x8.Reset_index(x8.Y_value[1],2)\n",
        "x8.plot_picture(x8.Y_value[0],x8.Y_test)"
      ],
      "metadata": {
        "id": "JThRfEF8eb1P"
      },
      "execution_count": null,
      "outputs": []
    },
    {
      "cell_type": "code",
      "source": [
        "x9 = class2.numeric()\n",
        "x9.read_file(\"/content/drive/MyDrive/파이썬/data_revised.csv\")\n",
        "x9.normalization(2)\n",
        "x9.data_IQR(2)\n",
        "x9.before_making_model([x9.df.columns[3],x9.df.columns[4],x9.df.columns[5], x9.df.columns[6]],[x9.df.columns[1]],2)\n",
        "\n",
        "x9.MLP(x9.train_test_data)\n",
        "x9.Reset_index(x9.Y_value[1],2)\n",
        "x9.plot_picture(x9.Y_value[0],x9.Y_test)\n",
        "\n",
        "#print(x9.Y_value[0].mean())\n",
        "#print(x9.Y_test.mean())"
      ],
      "metadata": {
        "id": "3IVczeJiPQc1"
      },
      "execution_count": null,
      "outputs": []
    },
    {
      "cell_type": "code",
      "source": [
        "import scipy.stats as stats\n",
        "\n",
        "# 피어슨 상관계수 검정\n",
        "corr = stats.pearsonr(x9.Y_value[0],x9.Y_test)\n",
        "corr\n",
        "\n"
      ],
      "metadata": {
        "colab": {
          "base_uri": "https://localhost:8080/"
        },
        "id": "I2350E9LXtUw",
        "outputId": "e4ce2831-e138-4ad7-90eb-71819f018fff"
      },
      "execution_count": 35,
      "outputs": [
        {
          "output_type": "execute_result",
          "data": {
            "text/plain": [
              "(array([0.2762579833855501], dtype=object), 0.06948684148333252)"
            ]
          },
          "metadata": {},
          "execution_count": 35
        }
      ]
    },
    {
      "cell_type": "code",
      "source": [
        "x10 = class2.numeric()\n",
        "x10.read_file(\"/content/drive/MyDrive/파이썬/data_revised.csv\")\n",
        "x10.normalization(2)\n",
        "x10.data_IQR(2)\n",
        "x10.before_making_model([x10.df.columns[3],x10.df.columns[4],x10.df.columns[5], x10.df.columns[6]],[x10.df.columns[1]],2)\n",
        "\n",
        "\n",
        "x10.DNN(x10.train_test_data)\n",
        "x10.Reset_index(x10.Y_value[1],2)\n",
        "#x10.plot_picture(x10.Y_value[0],x10.Y_test)"
      ],
      "metadata": {
        "id": "vF4Qk4Ikk29o"
      },
      "execution_count": null,
      "outputs": []
    },
    {
      "cell_type": "code",
      "source": [
        "x11 = class2.numeric()\n",
        "x11.read_file(\"/content/drive/MyDrive/파이썬/data_revised.csv\")\n",
        "x11.normalization(2)\n",
        "x11.data_IQR(2)\n",
        "x11.before_making_model([x11.df.columns[3],x11.df.columns[4],x11.df.columns[5], x11.df.columns[6]],[x11.df.columns[1]],2)\n",
        "\n",
        "x11.RandomForest(x11.train_test_data)\n",
        "x11.Reset_index(x11.Y_value[1],2)\n",
        "x11.plot_picture(x11.Y_value[0],x11.Y_test)"
      ],
      "metadata": {
        "id": "SXmBEmXMrHAZ"
      },
      "execution_count": null,
      "outputs": []
    },
    {
      "cell_type": "code",
      "source": [
        "x12 = class2.numeric()\n",
        "x12.read_file(\"/content/drive/MyDrive/파이썬/data_revised.csv\")\n",
        "x12.normalization(2)\n",
        "x12.data_IQR(2)\n",
        "x12.before_making_model([x12.df.columns[3],x12.df.columns[4],x12.df.columns[5], x12.df.columns[6]],[x12.df.columns[1]],2)\n",
        "\n",
        "x12.Gradien(x12.train_test_data)\n",
        "x12.Reset_index(x12.Y_value[1],2)\n",
        "x12.plot_picture(x12.Y_value[0],x12.Y_test)"
      ],
      "metadata": {
        "id": "8KGasK5xsfXq"
      },
      "execution_count": null,
      "outputs": []
    }
  ]
}